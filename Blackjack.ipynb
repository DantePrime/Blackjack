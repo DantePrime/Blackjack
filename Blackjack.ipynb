{
 "cells": [
  {
   "cell_type": "markdown",
   "metadata": {},
   "source": [
    "Blackjack Project"
   ]
  },
  {
   "cell_type": "markdown",
   "metadata": {},
   "source": [
    "Imports and Global Variables"
   ]
  },
  {
   "cell_type": "code",
   "execution_count": 12,
   "metadata": {},
   "outputs": [],
   "source": [
    "import random\n",
    "\n",
    "suits = ('Hearts', 'Diamonds', 'Spades', 'Clubs')\n",
    "ranks = ('Two', 'Three', 'Four', 'Five', 'Six', 'Seven', 'Eight', 'Nine', 'Ten', 'Jack', 'Queen', 'King', 'Ace')\n",
    "values = {'Two':2, 'Three':3, 'Four':4, 'Five':5, 'Six':6, 'Seven':7, 'Eight':8, 'Nine':9, 'Ten':10, 'Jack':10,\n",
    "         'Queen':10, 'King':10, 'Ace':11}\n",
    "\n",
    "playing = True"
   ]
  },
  {
   "cell_type": "markdown",
   "metadata": {},
   "source": [
    "\n",
    "Various Classes"
   ]
  },
  {
   "cell_type": "markdown",
   "metadata": {},
   "source": [
    "1.Card Class\n"
   ]
  },
  {
   "cell_type": "code",
   "execution_count": 13,
   "metadata": {},
   "outputs": [],
   "source": [
    "class Card():\n",
    "    \n",
    "    def __init__(self,suit,rank):\n",
    "        self.suit = suit\n",
    "        self.rank = rank\n",
    "    \n",
    "    def __str__(self):\n",
    "        return self.rank+ \" of \"+self.suit"
   ]
  },
  {
   "cell_type": "markdown",
   "metadata": {},
   "source": [
    "2.Deck Class"
   ]
  },
  {
   "cell_type": "code",
   "execution_count": 14,
   "metadata": {},
   "outputs": [],
   "source": [
    "class Deck:\n",
    "    \n",
    "    def __init__(self):\n",
    "        self.deck = []  # start with an empty list\n",
    "        for suit in suits:\n",
    "            for rank in ranks:\n",
    "                self.deck.append(Card(suit,rank))\n",
    "    \n",
    "    def __str__(self):\n",
    "        deck_comp = ''\n",
    "        for card in self.deck:\n",
    "            deck_comp += '\\n'+card.__str__()\n",
    "        return \"The deck has: \" +deck_comp\n",
    "\n",
    "    def shuffle(self):\n",
    "        random.shuffle(self.deck)\n",
    "        \n",
    "    def deal(self):\n",
    "        single_card = self.deck.pop()\n",
    "        return single_card"
   ]
  },
  {
   "cell_type": "markdown",
   "metadata": {},
   "source": [
    "3.Hand Class"
   ]
  },
  {
   "cell_type": "code",
   "execution_count": 15,
   "metadata": {},
   "outputs": [],
   "source": [
    "class Hand:\n",
    "    def __init__(self):\n",
    "        self.cards = []  # start with an empty list as we did in the Deck class\n",
    "        self.value = 0   # start with zero value\n",
    "        self.aces = 0    # add an attribute to keep track of aces\n",
    "    \n",
    "    def add_card(self,card):\n",
    "        #card passed in from Deck.deal()--> single Card(suit,rank)\n",
    "        self.cards.append(card)\n",
    "        self.value +=values[card.rank]\n",
    "        \n",
    "        #track aces\n",
    "        if card.rank == 'Ace':\n",
    "            self.aces+=1\n",
    "    def adjust_for_ace(self):\n",
    "        #If total value >21 and i still have an ace\n",
    "        #Than change my ace to be 1 instead of 11\n",
    "        while self.value >21 and self.aces > 0:\n",
    "            self.value -=10\n",
    "            self.aces -=1   "
   ]
  },
  {
   "cell_type": "markdown",
   "metadata": {},
   "source": [
    "4.Chips Class"
   ]
  },
  {
   "cell_type": "code",
   "execution_count": 16,
   "metadata": {},
   "outputs": [],
   "source": [
    "class Chips:\n",
    "    \n",
    "    def __init__(self,total=100):\n",
    "        self.total = total  # This can be set to a default value or supplied by a user input\n",
    "        self.bet = 0\n",
    "        \n",
    "    def win_bet(self):\n",
    "        self.total += self.bet\n",
    "    \n",
    "    def lose_bet(self):\n",
    "        self.total -= self.bet"
   ]
  },
  {
   "cell_type": "markdown",
   "metadata": {},
   "source": [
    "Various function definitions"
   ]
  },
  {
   "cell_type": "markdown",
   "metadata": {},
   "source": [
    "1. Function for talking bets"
   ]
  },
  {
   "cell_type": "code",
   "execution_count": 17,
   "metadata": {},
   "outputs": [],
   "source": [
    "def take_bet(chips):\n",
    "    while True:\n",
    "        try:\n",
    "            chips.bet = int(input(\"How many chips would you like to bet? \"))\n",
    "        except:\n",
    "            print(\"Sorry please provide an integer\")\n",
    "        else:\n",
    "            if chips.bet>chips.total:\n",
    "                print(f\"Sorry , you don't have enough chips! You have: {chips.total}\")\n",
    "            else:\n",
    "                break"
   ]
  },
  {
   "cell_type": "markdown",
   "metadata": {},
   "source": [
    "2. Function for taking hits"
   ]
  },
  {
   "cell_type": "code",
   "execution_count": 18,
   "metadata": {},
   "outputs": [],
   "source": [
    "def hit(deck,hand):\n",
    "    \n",
    "    hand.add_card(deck.deal())\n",
    "    hand.adjust_for_ace()"
   ]
  },
  {
   "cell_type": "markdown",
   "metadata": {},
   "source": [
    "3. Function prompting the Player to Hit or Stand"
   ]
  },
  {
   "cell_type": "code",
   "execution_count": 19,
   "metadata": {},
   "outputs": [],
   "source": [
    "def hit_or_stand(deck,hand):\n",
    "    global playing  # to control an upcoming while loop\n",
    "    \n",
    "    while True:\n",
    "        x = input('Hit or Stand? Enter h or s ')\n",
    "        if x[0].lower()== 'h':\n",
    "            hit(deck,hand)\n",
    "        elif x[0].lower() == 's':\n",
    "            print(\"Player Stand Dealer's Turn\")\n",
    "            playing = False\n",
    "        else:\n",
    "            print(\"Sorry, I did not understand that, Please enter h or s only!\")\n",
    "            continue\n",
    "        break"
   ]
  },
  {
   "cell_type": "markdown",
   "metadata": {},
   "source": [
    "4. Function for displaying cards"
   ]
  },
  {
   "cell_type": "code",
   "execution_count": 20,
   "metadata": {},
   "outputs": [],
   "source": [
    "def show_some(player,dealer):\n",
    "    print(\"DEALERS HAND:\")\n",
    "    print(\"one card hidden!\")\n",
    "    print(dealer.cards[1])\n",
    "    print(\"\\n\")\n",
    "    print(\"PLAYERS HAND:\")\n",
    "    for card in player.cards:\n",
    "        print(card)\n",
    "    \n",
    "def show_all(player,dealer):\n",
    "    print(\"DEALERS HAND:\")\n",
    "    for card in dealer.cards:\n",
    "        print(card)\n",
    "    print(\"\\n\")\n",
    "    print(\"PLAYERS HAND:\")\n",
    "    for card in dealer.cards:\n",
    "        print(card)\n",
    "    print(\"\\n\")"
   ]
  },
  {
   "cell_type": "markdown",
   "metadata": {},
   "source": [
    "5. Function to handle end of game scenarios"
   ]
  },
  {
   "cell_type": "code",
   "execution_count": 21,
   "metadata": {},
   "outputs": [],
   "source": [
    "def player_busts(player,dealer,chips):\n",
    "    print(\"BUST PLAYER!\")\n",
    "    chips.lose_bet()\n",
    "\n",
    "def player_wins(player,dealer,chips):\n",
    "    print(\"PLAYR WINS!\")\n",
    "    chips.win_bet()\n",
    "\n",
    "def dealer_busts(player,dealer,chips):\n",
    "    print(\"PLAYER WINS! DEALER BUSTED!\")\n",
    "    chips.win_bet()\n",
    "    \n",
    "def dealer_wins(player,dealer,chips):\n",
    "    print(\"DEALER WINS!\")\n",
    "    chips.lose_bet()\n",
    "    \n",
    "def push(player,dealer):\n",
    "    print(\"Dealer and player tie! PUSH\")"
   ]
  },
  {
   "cell_type": "markdown",
   "metadata": {},
   "source": [
    "And now the game!!"
   ]
  },
  {
   "cell_type": "code",
   "execution_count": null,
   "metadata": {},
   "outputs": [
    {
     "name": "stdout",
     "output_type": "stream",
     "text": [
      "WELCOME TO BLACKJACK\n",
      "How many chips would you like to bet? \n",
      "Sorry please provide an integer\n",
      "How many chips would you like to bet? 50\n",
      "DEALERS HAND:\n",
      "one card hidden!\n",
      "Ace of Spades\n",
      "\n",
      "\n",
      "PLAYERS HAND:\n",
      "Jack of Diamonds\n",
      "Ten of Clubs\n",
      "Hit or Stand? Enter h or s h\n",
      "DEALERS HAND:\n",
      "one card hidden!\n",
      "Ace of Spades\n",
      "\n",
      "\n",
      "PLAYERS HAND:\n",
      "Jack of Diamonds\n",
      "Ten of Clubs\n",
      "Five of Clubs\n",
      "BUST PLAYER!\n",
      "\n",
      " Player total chips are at: 50\n",
      "Would you like to play another hand? y/ny\n",
      "WELCOME TO BLACKJACK\n",
      "How many chips would you like to bet? 50\n",
      "DEALERS HAND:\n",
      "one card hidden!\n",
      "Jack of Diamonds\n",
      "\n",
      "\n",
      "PLAYERS HAND:\n",
      "Seven of Spades\n",
      "Three of Diamonds\n",
      "Hit or Stand? Enter h or s h\n",
      "DEALERS HAND:\n",
      "one card hidden!\n",
      "Jack of Diamonds\n",
      "\n",
      "\n",
      "PLAYERS HAND:\n",
      "Seven of Spades\n",
      "Three of Diamonds\n",
      "Jack of Clubs\n",
      "Hit or Stand? Enter h or s s\n",
      "Player Stand Dealer's Turn\n",
      "DEALERS HAND:\n",
      "one card hidden!\n",
      "Jack of Diamonds\n",
      "\n",
      "\n",
      "PLAYERS HAND:\n",
      "Seven of Spades\n",
      "Three of Diamonds\n",
      "Jack of Clubs\n",
      "DEALERS HAND:\n",
      "Ten of Diamonds\n",
      "Jack of Diamonds\n",
      "\n",
      "\n",
      "PLAYERS HAND:\n",
      "Ten of Diamonds\n",
      "Jack of Diamonds\n",
      "\n",
      "\n",
      "Dealer and player tie! PUSH\n",
      "\n",
      " Player total chips are at: 100\n",
      "Would you like to play another hand? y/ny\n",
      "WELCOME TO BLACKJACK\n",
      "How many chips would you like to bet? 5-\n",
      "Sorry please provide an integer\n",
      "How many chips would you like to bet? 50\n",
      "DEALERS HAND:\n",
      "one card hidden!\n",
      "Queen of Diamonds\n",
      "\n",
      "\n",
      "PLAYERS HAND:\n",
      "Seven of Hearts\n",
      "Ace of Hearts\n",
      "Hit or Stand? Enter h or s h\n",
      "DEALERS HAND:\n",
      "one card hidden!\n",
      "Queen of Diamonds\n",
      "\n",
      "\n",
      "PLAYERS HAND:\n",
      "Seven of Hearts\n",
      "Ace of Hearts\n",
      "Three of Diamonds\n",
      "Hit or Stand? Enter h or s h\n",
      "DEALERS HAND:\n",
      "one card hidden!\n",
      "Queen of Diamonds\n",
      "\n",
      "\n",
      "PLAYERS HAND:\n",
      "Seven of Hearts\n",
      "Ace of Hearts\n",
      "Three of Diamonds\n",
      "King of Spades\n",
      "Hit or Stand? Enter h or s h\n",
      "DEALERS HAND:\n",
      "one card hidden!\n",
      "Queen of Diamonds\n",
      "\n",
      "\n",
      "PLAYERS HAND:\n",
      "Seven of Hearts\n",
      "Ace of Hearts\n",
      "Three of Diamonds\n",
      "King of Spades\n",
      "Jack of Hearts\n",
      "BUST PLAYER!\n",
      "\n",
      " Player total chips are at: 50\n",
      "Would you like to play another hand? y/ny\n",
      "WELCOME TO BLACKJACK\n",
      "How many chips would you like to bet? 60\n",
      "DEALERS HAND:\n",
      "one card hidden!\n",
      "Ace of Hearts\n",
      "\n",
      "\n",
      "PLAYERS HAND:\n",
      "Six of Diamonds\n",
      "Ace of Clubs\n",
      "Hit or Stand? Enter h or s s\n",
      "Player Stand Dealer's Turn\n",
      "DEALERS HAND:\n",
      "one card hidden!\n",
      "Ace of Hearts\n",
      "\n",
      "\n",
      "PLAYERS HAND:\n",
      "Six of Diamonds\n",
      "Ace of Clubs\n",
      "DEALERS HAND:\n",
      "King of Hearts\n",
      "Ace of Hearts\n",
      "\n",
      "\n",
      "PLAYERS HAND:\n",
      "King of Hearts\n",
      "Ace of Hearts\n",
      "\n",
      "\n",
      "DEALER WINS!\n",
      "\n",
      " Player total chips are at: 40\n"
     ]
    }
   ],
   "source": [
    "while True:\n",
    "    # Print an opening statement\n",
    "    print(\"WELCOME TO BLACKJACK\")\n",
    "\n",
    "    \n",
    "    # Create & shuffle the deck, deal two cards to each player\n",
    "    deck = Deck()\n",
    "    deck.shuffle()\n",
    "    \n",
    "    player_hand = Hand()\n",
    "    player_hand.add_card(deck.deal())\n",
    "    player_hand.add_card(deck.deal())\n",
    "\n",
    "    dealer_hand = Hand()\n",
    "    dealer_hand.add_card(deck.deal())\n",
    "    dealer_hand.add_card(deck.deal())\n",
    "        \n",
    "    # Set up the Player's chips\n",
    "    player_chips = Chips()\n",
    "    \n",
    "    \n",
    "    # Prompt the Player for their bet\n",
    "    take_bet(player_chips)\n",
    "\n",
    "    \n",
    "    # Show cards (but keep one dealer card hidden)\n",
    "    show_some(player_hand,dealer_hand)\n",
    "\n",
    "    \n",
    "    while playing:  # recall this variable from our hit_or_stand function\n",
    "        \n",
    "        # Prompt for Player to Hit or Stand\n",
    "        hit_or_stand(deck,player_hand)\n",
    "        \n",
    "        \n",
    "        # Show cards (but keep one dealer card hidden)\n",
    "        show_some(player_hand,dealer_hand)\n",
    " \n",
    "        \n",
    "        # If player's hand exceeds 21, run player_busts() and break out of loop\n",
    "        if player_hand.value>21:\n",
    "            player_busts(player_hand,dealer_hand,player_chips)\n",
    "\n",
    "            break\n",
    "\n",
    "    # If Player hasn't busted, play Dealer's hand until Dealer reaches 17\n",
    "    if player_hand.value<=21:\n",
    "        \n",
    "        while dealer_hand.value< player_hand.value:\n",
    "            hit(deck,dealer_hand)\n",
    "    \n",
    "    \n",
    "        # Show all cards\n",
    "        show_all(player_hand,dealer_hand)\n",
    "    \n",
    "        # Run different winning scenarios\n",
    "        if dealer_hand.value >21:\n",
    "            deader_busts(player_hand,dealer_hand,player_chips)\n",
    "        elif dealer_hand.value >player_hand.value:\n",
    "            dealer_wins(player_hand,dealer_hand,player_chips)\n",
    "        elif dealer_hand.value <player_hand.value:\n",
    "            player_wins(player_hand,dealer_hand,player_chips)\n",
    "        else:\n",
    "            push(player_hand,dealer_hand)\n",
    "        \n",
    "    \n",
    "    # Inform Player of their chips total \n",
    "    print('\\n Player total chips are at: {}'.format(player_chips.total))\n",
    "    \n",
    "    # Ask to play again\n",
    "    new_game = input(\"Would you like to play another hand? y/n\")\n",
    "    if new_game[0].lower()== 'y':\n",
    "        playing = True\n",
    "        continue\n",
    "    else:\n",
    "        print(\"Thank you for playing!\")\n",
    "        break"
   ]
  },
  {
   "cell_type": "code",
   "execution_count": null,
   "metadata": {},
   "outputs": [],
   "source": []
  }
 ],
 "metadata": {
  "kernelspec": {
   "display_name": "Python 3",
   "language": "python",
   "name": "python3"
  },
  "language_info": {
   "codemirror_mode": {
    "name": "ipython",
    "version": 3
   },
   "file_extension": ".py",
   "mimetype": "text/x-python",
   "name": "python",
   "nbconvert_exporter": "python",
   "pygments_lexer": "ipython3",
   "version": "3.7.6"
  }
 },
 "nbformat": 4,
 "nbformat_minor": 4
}
